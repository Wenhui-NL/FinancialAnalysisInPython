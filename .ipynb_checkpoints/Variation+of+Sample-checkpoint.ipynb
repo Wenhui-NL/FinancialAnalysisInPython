{
 "cells": [
  {
   "cell_type": "markdown",
   "metadata": {},
   "source": [
    "# Variation of Sample"
   ]
  },
  {
   "cell_type": "code",
   "execution_count": 1,
   "metadata": {},
   "outputs": [],
   "source": [
    "import pandas as pd\n",
    "import numpy as np\n",
    "from scipy.stats import norm\n",
    "%matplotlib inline"
   ]
  },
  {
   "cell_type": "code",
   "execution_count": 2,
   "metadata": {},
   "outputs": [
    {
     "name": "stdout",
     "output_type": "stream",
     "text": [
      "            0\n",
      "0    6.060871\n",
      "1    5.674717\n",
      "2   -2.561653\n",
      "3    7.881023\n",
      "4   16.190198\n",
      "5   14.554417\n",
      "6   -1.395000\n",
      "7   16.238244\n",
      "8   18.475311\n",
      "9   13.254045\n",
      "10   5.876713\n",
      "11  -1.129523\n",
      "12   5.360539\n",
      "13  18.979756\n",
      "14   9.293766\n",
      "15   6.268564\n",
      "16   9.726872\n",
      "17   6.630418\n",
      "18   5.570622\n",
      "19  10.538242\n",
      "20  14.966925\n",
      "21  17.830155\n",
      "22   8.406309\n",
      "23  16.838576\n",
      "24  19.802675\n",
      "25  19.624884\n",
      "26   5.300045\n",
      "27  10.248860\n",
      "28   5.369494\n",
      "29  12.606835\n",
      "sample mean is  10.082763430201636\n",
      "sample SD is  6.351059909323306\n"
     ]
    }
   ],
   "source": [
    "# Sample mean and SD keep changing, but always within a certain range\n",
    "Fstsample = pd.DataFrame(np.random.normal(10, 5, size=30))\n",
    "print(Fstsample)\n",
    "print('sample mean is ', Fstsample[0].mean())\n",
    "print('sample SD is ', Fstsample[0].std(ddof=1))"
   ]
  },
  {
   "cell_type": "markdown",
   "metadata": {},
   "source": [
    "## Empirical Distribution of mean"
   ]
  },
  {
   "cell_type": "code",
   "execution_count": 3,
   "metadata": {},
   "outputs": [],
   "source": [
    "meanlist = []\n",
    "for t in range(10000):\n",
    "    sample = pd.DataFrame(np.random.normal(10, 5, size=30))\n",
    "    meanlist.append(sample[0].mean())"
   ]
  },
  {
   "cell_type": "code",
   "execution_count": 4,
   "metadata": {},
   "outputs": [
    {
     "name": "stdout",
     "output_type": "stream",
     "text": [
      "<bound method NDFrame.head of        meanlist\n",
      "0      9.926227\n",
      "1      8.398704\n",
      "2     11.295512\n",
      "3      8.553192\n",
      "4      9.252026\n",
      "5      9.641098\n",
      "6     10.788415\n",
      "7     10.704744\n",
      "8      8.487488\n",
      "9      9.159615\n",
      "10    10.738967\n",
      "11    10.335667\n",
      "12    10.303813\n",
      "13     9.831696\n",
      "14    10.651211\n",
      "15    11.384624\n",
      "16    10.088166\n",
      "17     9.250117\n",
      "18     8.963363\n",
      "19     9.943323\n",
      "20    10.353054\n",
      "21     7.824942\n",
      "22     9.768026\n",
      "23     9.047516\n",
      "24     9.020331\n",
      "25     9.116329\n",
      "26     9.984186\n",
      "27     9.172233\n",
      "28    10.936335\n",
      "29    10.530962\n",
      "...         ...\n",
      "9970   9.770578\n",
      "9971  10.367632\n",
      "9972   9.419946\n",
      "9973  10.058089\n",
      "9974  10.626910\n",
      "9975  12.195291\n",
      "9976   9.585564\n",
      "9977   9.464773\n",
      "9978   9.558806\n",
      "9979   9.255493\n",
      "9980  11.162750\n",
      "9981   9.916200\n",
      "9982   9.479507\n",
      "9983   9.851741\n",
      "9984  10.516028\n",
      "9985   9.784730\n",
      "9986   8.843891\n",
      "9987   9.423197\n",
      "9988   9.442461\n",
      "9989  11.183506\n",
      "9990  11.678689\n",
      "9991  10.014675\n",
      "9992   8.743110\n",
      "9993  10.734425\n",
      "9994  11.342395\n",
      "9995  10.838375\n",
      "9996   9.973423\n",
      "9997   8.719399\n",
      "9998   9.374469\n",
      "9999   8.659004\n",
      "\n",
      "[10000 rows x 1 columns]>\n"
     ]
    }
   ],
   "source": [
    "collection = pd.DataFrame()\n",
    "collection['meanlist'] = meanlist\n",
    "print(collection.head)"
   ]
  },
  {
   "cell_type": "code",
   "execution_count": 6,
   "metadata": {},
   "outputs": [
    {
     "data": {
      "text/plain": [
       "<matplotlib.axes._subplots.AxesSubplot at 0x25043c339e8>"
      ]
     },
     "execution_count": 6,
     "metadata": {},
     "output_type": "execute_result"
    },
    {
     "data": {
      "image/png": "[encoded data removed]",
      "text/plain": [
       "<Figure size 1080x576 with 1 Axes>"
      ]
     },
     "metadata": {},
     "output_type": "display_data"
    }
   ],
   "source": [
    "collection['meanlist'].hist(bins=100, density=1,figsize=(15,8))"
   ]
  },
  {
   "cell_type": "markdown",
   "metadata": {},
   "source": [
    "## Sampling from arbritary distribution"
   ]
  },
  {
   "cell_type": "code",
   "execution_count": null,
   "metadata": {},
   "outputs": [],
   "source": [
    "# See what central limit theorem tells you...the sample size is larger enough, \n",
    "# the distribution of sample mean is approximately normal\n",
    "# apop is not normal, but try to change the sample size from 100 to a larger number. The distribution of sample mean of apop \n",
    "# becomes normal.\n",
    "sample_size = 100000\n",
    "samplemeanlist = []\n",
    "apop =  pd.DataFrame([1, 0, 1, 0, 1])\n",
    "for t in range(10000):\n",
    "    sample = apop[0].sample(sample_size, replace=True)  # small sample size\n",
    "    samplemeanlist.append(sample.mean())\n",
    "\n",
    "acollec = pd.DataFrame()\n",
    "acollec['meanlist'] = samplemeanlist\n",
    "acollec.hist(bins=100, normed=1,figsize=(15,8))"
   ]
  },
  {
   "cell_type": "code",
   "execution_count": null,
   "metadata": {
    "collapsed": true
   },
   "outputs": [],
   "source": []
  }
 ],
 "metadata": {
  "kernelspec": {
   "display_name": "Python 3",
   "language": "python",
   "name": "python3"
  },
  "language_info": {
   "codemirror_mode": {
    "name": "ipython",
    "version": 3
   },
   "file_extension": ".py",
   "mimetype": "text/x-python",
   "name": "python",
   "nbconvert_exporter": "python",
   "pygments_lexer": "ipython3",
   "version": "3.6.5"
  }
 },
 "nbformat": 4,
 "nbformat_minor": 2
}
